{
 "cells": [
  {
   "cell_type": "markdown",
   "source": [
    "# Object Tracking\r\n",
    "\r\n",
    "## Tracker Class in OpenCV\r\n",
    "- BOOSTING\r\n",
    "- MIL\r\n",
    "- KCF\r\n",
    "- CRST\r\n",
    "- TLD\r\n",
    "- MEDIANFLOW\r\n",
    "- GOTURN\r\n",
    "    - DEEP LEARNING BASED; MOST ACCURATE\r\n",
    "- MOSSE\r\n",
    "    - FASTEST"
   ],
   "metadata": {}
  },
  {
   "cell_type": "code",
   "execution_count": 1,
   "source": [
    "import cv2\r\n",
    "import sys\r\n",
    "import os\r\n",
    "import matplotlib.pyplot as plt\r\n",
    "from matplotlib.animation import FuncAnimation\r\n",
    "from IPython.display import HTML\r\n",
    "import urllib\r\n",
    "\r\n",
    "video_input_file_name = \"race_car.mp4\"\r\n",
    "\r\n",
    "def drawRectangle(frame, bbox):\r\n",
    "    p1 = (int(bbox[0]), int(bbox[1]))\r\n",
    "    p2 = (int(bbox[0] + bbox[2]), int(bbox[1] + bbox[3]))\r\n",
    "    cv2.rectangle(frame, p1, p2, (255,0,0), 2, 1)\r\n",
    "\r\n",
    "def displayRectangle(frame, bbox):\r\n",
    "    plt.figure(figsize=[20,10])\r\n",
    "    frameCopy = frame.copy()\r\n",
    "    drawRectangle(frameCopy, bbox)\r\n",
    "    frameCopy = cv2.cvtColor(frameCopy, cv2.COLOR_BGR2RGB)\r\n",
    "    plt.imshow(frameCopy); plt.axis('off')\r\n",
    "\r\n",
    "def drawText(frame, txt, location, color=(50,170,50)):\r\n",
    "    cv2.putText(frame, txt, location, cv2.FONT_HERSHEY_SIMPLEX, 1,color,3)"
   ],
   "outputs": [],
   "metadata": {}
  }
 ],
 "metadata": {
  "orig_nbformat": 4,
  "language_info": {
   "name": "python",
   "version": "3.9.2",
   "mimetype": "text/x-python",
   "codemirror_mode": {
    "name": "ipython",
    "version": 3
   },
   "pygments_lexer": "ipython3",
   "nbconvert_exporter": "python",
   "file_extension": ".py"
  },
  "kernelspec": {
   "name": "python3",
   "display_name": "Python 3.9.2 64-bit"
  },
  "interpreter": {
   "hash": "a3949659082f76c3dce9af69e66ef5cf512c1e4dc52678c6ac146f322361f8d5"
  }
 },
 "nbformat": 4,
 "nbformat_minor": 2
}
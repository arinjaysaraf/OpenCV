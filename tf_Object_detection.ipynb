{
 "cells": [
  {
   "cell_type": "markdown",
   "source": [
    "# Deep learning based object detection\r\n",
    "1. Architecture = Mobilenet based Single Shot multi-box (ssd)\r\n",
    "2. Framework = Tensorflow"
   ],
   "metadata": {}
  },
  {
   "cell_type": "code",
   "execution_count": null,
   "source": [],
   "outputs": [],
   "metadata": {}
  }
 ],
 "metadata": {
  "orig_nbformat": 4,
  "language_info": {
   "name": "python"
  }
 },
 "nbformat": 4,
 "nbformat_minor": 2
}